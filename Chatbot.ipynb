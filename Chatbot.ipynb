{
  "nbformat": 4,
  "nbformat_minor": 0,
  "metadata": {
    "colab": {
      "provenance": []
    },
    "kernelspec": {
      "name": "python3",
      "display_name": "Python 3"
    },
    "language_info": {
      "name": "python"
    }
  },
  "cells": [
    {
      "cell_type": "code",
      "execution_count": 1,
      "metadata": {
        "colab": {
          "base_uri": "https://localhost:8080/"
        },
        "id": "tKm7Jq63eBWH",
        "outputId": "95e0a268-ca88-433f-93bc-a43c09ee970d"
      },
      "outputs": [
        {
          "output_type": "stream",
          "name": "stdout",
          "text": [
            "\u001b[2K     \u001b[90m━━━━━━━━━━━━━━━━━━━━━━━━━━━━━━━━━━━━━━━━\u001b[0m \u001b[32m43.1/43.1 kB\u001b[0m \u001b[31m2.2 MB/s\u001b[0m eta \u001b[36m0:00:00\u001b[0m\n",
            "\u001b[2K   \u001b[90m━━━━━━━━━━━━━━━━━━━━━━━━━━━━━━━━━━━━━━━━\u001b[0m \u001b[32m222.6/222.6 kB\u001b[0m \u001b[31m5.8 MB/s\u001b[0m eta \u001b[36m0:00:00\u001b[0m\n",
            "\u001b[?25h"
          ]
        }
      ],
      "source": [
        "!pip install -q -U google-genai"
      ]
    },
    {
      "cell_type": "code",
      "source": [
        "import time\n",
        "from google import genai\n",
        "from google.colab import userdata"
      ],
      "metadata": {
        "id": "yCOt8uG2flVp"
      },
      "execution_count": 2,
      "outputs": []
    },
    {
      "cell_type": "code",
      "source": [
        "key=userdata.get('GEMINI_API_KEY')"
      ],
      "metadata": {
        "id": "S84MtrXSgGGM"
      },
      "execution_count": 3,
      "outputs": []
    },
    {
      "cell_type": "code",
      "source": [
        "def stream(text):\n",
        "  print('Bot:',end=' ')\n",
        "  words=text.split()\n",
        "  for word in words:\n",
        "    print(word,end=' ',flush=True)\n",
        "    time.sleep(0.1)\n",
        "  print()"
      ],
      "metadata": {
        "id": "x0YoIT4pgsJI"
      },
      "execution_count": 4,
      "outputs": []
    },
    {
      "cell_type": "code",
      "source": [
        "text='We are building a chatbot'\n",
        "stream(text)"
      ],
      "metadata": {
        "colab": {
          "base_uri": "https://localhost:8080/"
        },
        "id": "KdnyXM2kiPpV",
        "outputId": "b273459a-9c1b-4b5e-cb58-a140c74d0031"
      },
      "execution_count": 5,
      "outputs": [
        {
          "output_type": "stream",
          "name": "stdout",
          "text": [
            "Bot: We are building a chatbot \n"
          ]
        }
      ]
    },
    {
      "cell_type": "code",
      "source": [
        "try:\n",
        "  client=genai.Client(api_key=key)\n",
        "except KeyError:\n",
        "   print(f'Error with gemini api key.\\n error message:\\n{KeyError}')\n",
        "chat=client.chats.create(model=\"gemini-2.0-flash\")"
      ],
      "metadata": {
        "id": "5OjTqGSljhI8"
      },
      "execution_count": 6,
      "outputs": []
    },
    {
      "cell_type": "code",
      "source": [],
      "metadata": {
        "id": "s8eGjkXLqqlI"
      },
      "execution_count": 6,
      "outputs": []
    },
    {
      "cell_type": "code",
      "source": [
        "def ask_gemini(user_input):\n",
        "  try:\n",
        "    prompt=f\"You are a poetic chatbot.Keep it short and punchy.\"\n",
        "    response=chat.send_message(prompt)\n",
        "    return response.text\n",
        "  except Exception as e:\n",
        "    return f\"Oops, something went wrong: {e}\""
      ],
      "metadata": {
        "id": "OoU-qwlKkgus"
      },
      "execution_count": 12,
      "outputs": []
    },
    {
      "cell_type": "code",
      "source": [
        "import time\n",
        "\n",
        "def stream(text):\n",
        "  print('Bot:',end=' ')\n",
        "  words=text.split()\n",
        "  for word in words:\n",
        "    print(word,end=' ',flush=True)\n",
        "    time.sleep(0.1)\n",
        "  print()\n",
        "\n",
        "print(\"Welcome to gemini chatbot!type 'quit' to exit\")\n",
        "while True:\n",
        "  user_input=input(\"You: \")\n",
        "  if user_input.lower()=='quit':\n",
        "    print('Bot:Bye for now!')\n",
        "    break\n",
        "  response=ask_gemini(user_input)\n",
        "  stream(response)"
      ],
      "metadata": {
        "colab": {
          "base_uri": "https://localhost:8080/"
        },
        "id": "kYnKajkMl6Te",
        "outputId": "1c11f8fc-bf9f-4762-f1d3-8739d2780c92"
      },
      "execution_count": 14,
      "outputs": [
        {
          "output_type": "stream",
          "name": "stdout",
          "text": [
            "Welcome to gemini chatbot!type 'quit' to exit\n",
            "You: im depressed,what to do\n",
            "Bot: Tick-tock goes the clock. What's the thought? Unlock! \n",
            "You: quit\n",
            "Bot:Bye for now!\n"
          ]
        }
      ]
    }
  ]
}